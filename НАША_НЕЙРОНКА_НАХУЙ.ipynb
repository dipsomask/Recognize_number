{
  "nbformat": 4,
  "nbformat_minor": 0,
  "metadata": {
    "colab": {
      "provenance": [],
      "include_colab_link": true
    },
    "kernelspec": {
      "name": "python3",
      "display_name": "Python 3"
    },
    "language_info": {
      "name": "python"
    }
  },
  "cells": [
    {
      "cell_type": "markdown",
      "metadata": {
        "id": "view-in-github",
        "colab_type": "text"
      },
      "source": [
        "<a href=\"https://colab.research.google.com/github/dipsomask/workzone/blob/main/%D0%9D%D0%90%D0%A8%D0%90_%D0%9D%D0%95%D0%99%D0%A0%D0%9E%D0%9D%D0%9A%D0%90_%D0%9D%D0%90%D0%A5%D0%A3%D0%99.ipynb\" target=\"_parent\"><img src=\"https://colab.research.google.com/assets/colab-badge.svg\" alt=\"Open In Colab\"/></a>"
      ]
    },
    {
      "cell_type": "code",
      "source": [
        "import tensorflow as tf\n",
        "import keras\n",
        "import cv2\n",
        "import numpy as np\n",
        "import matplotlib.pyplot as plt\n",
        "from imutils import paths\n",
        "from PIL import Image\n",
        "from keras.models import load_model"
      ],
      "metadata": {
        "id": "KZVcyd3KHpPD"
      },
      "execution_count": null,
      "outputs": []
    },
    {
      "cell_type": "code",
      "execution_count": null,
      "metadata": {
        "id": "tyg-hOAgHOQ4"
      },
      "outputs": [],
      "source": [
        "def filter_image(image):\n",
        "    model = load_model('/content/drive/MyDrive/piskabobra/version 1.0/modelV1_0_0')\n",
        "    image = cv2.resize(image, (28, 28))\n",
        "    image = cv2.cvtColor(image, cv2.COLOR_BGR2GRAY)\n",
        "    image = cv2.bitwise_not(image)\n",
        "    image = image / 255.0\n",
        "    image = np.reshape(image, (1, 28, 28, 1))\n",
        "    prediction = model.predict(image)\n",
        "    return np.argmax(prediction)"
      ]
    },
    {
      "cell_type": "code",
      "source": [
        "\n",
        "img = cv2.imread('image1.jpg')\n",
        "filter_image(img)"
      ],
      "metadata": {
        "colab": {
          "base_uri": "https://localhost:8080/"
        },
        "id": "ndbrrpuwJ2AX",
        "outputId": "9c33b400-a36c-4528-9440-9c3b69e69f17"
      },
      "execution_count": null,
      "outputs": [
        {
          "output_type": "stream",
          "name": "stdout",
          "text": [
            "1/1 [==============================] - 0s 91ms/step\n"
          ]
        },
        {
          "output_type": "execute_result",
          "data": {
            "text/plain": [
              "0"
            ]
          },
          "metadata": {},
          "execution_count": 27
        }
      ]
    },
    {
      "cell_type": "code",
      "source": [
        "imgPaths = list(paths.list_files(''))\n",
        "masIMG = [[[]*len(imgPaths)]*len(imgPaths)]\n",
        "for i in imgPaths:\n",
        "  img = i\n",
        "  masIMG.append((Image.open(img)))\n"
      ],
      "metadata": {
        "id": "SnWFOgavPk-C"
      },
      "execution_count": null,
      "outputs": []
    }
  ]
}