{
  "nbformat": 4,
  "nbformat_minor": 0,
  "metadata": {
    "colab": {
      "provenance": [],
      "collapsed_sections": [
        "Hv6RpMwuRdPn",
        "M03Y6w3CSYgv"
      ],
      "include_colab_link": true
    },
    "kernelspec": {
      "name": "python3",
      "display_name": "Python 3"
    },
    "language_info": {
      "name": "python"
    }
  },
  "cells": [
    {
      "cell_type": "markdown",
      "metadata": {
        "id": "view-in-github",
        "colab_type": "text"
      },
      "source": [
        "<a href=\"https://colab.research.google.com/github/dipsomask/workzone/blob/main/codeNetwork_1_0_0.ipynb\" target=\"_parent\"><img src=\"https://colab.research.google.com/assets/colab-badge.svg\" alt=\"Open In Colab\"/></a>"
      ]
    },
    {
      "cell_type": "markdown",
      "source": [
        "# **ВВОД И НОРМИРОВАНИЕ ВСЕХ ДАННЫХ**"
      ],
      "metadata": {
        "id": "Hv6RpMwuRdPn"
      }
    },
    {
      "cell_type": "markdown",
      "source": [
        "Импортируем все библиотеки, модули и базу данных:"
      ],
      "metadata": {
        "id": "eXSFJ8rV9b_n"
      }
    },
    {
      "cell_type": "code",
      "execution_count": null,
      "metadata": {
        "id": "ivbKTNoc4gzq"
      },
      "outputs": [],
      "source": [
        "import tensorflow as tf\n",
        "import keras\n",
        "import numpy as np\n",
        "import matplotlib.pyplot as plt\n",
        "from keras.layers import Dense, Flatten, Conv2D, Dropout,BatchNormalization\n",
        "from keras.models import Sequential\n",
        "from keras.datasets import mnist"
      ]
    },
    {
      "cell_type": "code",
      "source": [
        "from google.colab import drive\n",
        "drive.mount('/content/drive')"
      ],
      "metadata": {
        "colab": {
          "base_uri": "https://localhost:8080/"
        },
        "id": "IrEeMGlpuTcZ",
        "outputId": "0426355e-7daf-458b-bdf5-0d1c238d5545"
      },
      "execution_count": null,
      "outputs": [
        {
          "output_type": "stream",
          "name": "stdout",
          "text": [
            "Drive already mounted at /content/drive; to attempt to forcibly remount, call drive.mount(\"/content/drive\", force_remount=True).\n"
          ]
        }
      ]
    },
    {
      "cell_type": "markdown",
      "source": [
        "Подгружаем базу данных:"
      ],
      "metadata": {
        "id": "GTCNpN959wdY"
      }
    },
    {
      "cell_type": "code",
      "source": [
        "(xtrain, ytrain), (xtest, ytest) = mnist.load_data() #подгружаем данные мниста"
      ],
      "metadata": {
        "id": "0bnluwgZ9bbw",
        "outputId": "98abcc42-23cd-4cd6-d03c-f18c59d20bcf",
        "colab": {
          "base_uri": "https://localhost:8080/"
        }
      },
      "execution_count": null,
      "outputs": [
        {
          "output_type": "stream",
          "name": "stdout",
          "text": [
            "Downloading data from https://storage.googleapis.com/tensorflow/tf-keras-datasets/mnist.npz\n",
            "11490434/11490434 [==============================] - 0s 0us/step\n"
          ]
        }
      ]
    },
    {
      "cell_type": "code",
      "source": [
        "#проверка изображений\n",
        "print(xtrain.shape)\n",
        "print(ytrain.shape)\n",
        "plt.imshow(xtrain[256], cmap = 'binary')\n",
        "plt.axis('off')\n",
        "print(ytrain[256])"
      ],
      "metadata": {
        "id": "SJ4DLsfjBIko",
        "outputId": "1928d9ff-e3ce-436d-c882-4841208a6885",
        "colab": {
          "base_uri": "https://localhost:8080/"
        }
      },
      "execution_count": null,
      "outputs": [
        {
          "output_type": "stream",
          "name": "stdout",
          "text": [
            "(60000, 28, 28)\n",
            "(60000,)\n",
            "6\n"
          ]
        },
        {
          "output_type": "display_data",
          "data": {
            "text/plain": [
              "<Figure size 432x288 with 1 Axes>"
            ],
            "image/png": "[encoded data removed]"
          },
          "metadata": {
            "needs_background": "light"
          }
        }
      ]
    },
    {
      "cell_type": "markdown",
      "source": [
        "Меняем диапозон чисел с [0-255] на [0.0 - 1.0]:"
      ],
      "metadata": {
        "id": "-O1T_yQlCR-a"
      }
    },
    {
      "cell_type": "code",
      "source": [
        "xtrain = xtrain/255\n",
        "xtest = xtest/255"
      ],
      "metadata": {
        "id": "Md4beZzKBjd5"
      },
      "execution_count": null,
      "outputs": []
    },
    {
      "cell_type": "markdown",
      "source": [
        "Преобразуем в векторный формат:"
      ],
      "metadata": {
        "id": "Fl35kAPzQVO9"
      }
    },
    {
      "cell_type": "code",
      "source": [
        "ytrain_convertedToVector = keras.utils.to_categorical(ytrain, 10)\n",
        "ytest_convertedToVector = keras.utils.to_categorical(ytest, 10)"
      ],
      "metadata": {
        "id": "r8_18KsREGIq"
      },
      "execution_count": null,
      "outputs": []
    },
    {
      "cell_type": "markdown",
      "source": [
        "Проверяем:"
      ],
      "metadata": {
        "id": "YRUpdpnTEBOx"
      }
    },
    {
      "cell_type": "code",
      "source": [
        "print(ytrain_convertedToVector[256])"
      ],
      "metadata": {
        "colab": {
          "base_uri": "https://localhost:8080/"
        },
        "id": "kkjAUL1oQUf2",
        "outputId": "8c328032-8c84-4c37-b61c-93421f357cc1"
      },
      "execution_count": null,
      "outputs": [
        {
          "output_type": "stream",
          "name": "stdout",
          "text": [
            "[0. 0. 0. 0. 0. 0. 1. 0. 0. 0.]\n"
          ]
        }
      ]
    },
    {
      "cell_type": "markdown",
      "source": [
        "# **МОДЕЛЬ НЕТВОРКА**"
      ],
      "metadata": {
        "id": "M03Y6w3CSYgv"
      }
    },
    {
      "cell_type": "markdown",
      "source": [
        "Инициализация модели и создание слоёв NW:"
      ],
      "metadata": {
        "id": "vookD-wKSkh3"
      }
    },
    {
      "cell_type": "code",
      "source": [
        "model = keras.Sequential([\n",
        "        Conv2D(28, kernel_size=(3, 3), input_shape=(28,28,1), activation='sigmoid'), #входной слой\n",
        "        Conv2D(56, kernel_size=(3, 3), activation='sigmoid'),\n",
        "        Conv2D(112, kernel_size=(3, 3), activation='sigmoid'),\n",
        "        BatchNormalization(), #нормализуем для повышения вероятности успешного обучения\n",
        "        Flatten(), #вытягиваем в вектор\n",
        "        Dense(units=128, activation='sigmoid'), # Скрытый слой\n",
        "        Dropout(0.2),\n",
        "        Dense(units=10, activation='softmax')     # Выходной слой - 10 нейронов\n",
        "    ])"
      ],
      "metadata": {
        "id": "RmsOKMJYSjUH"
      },
      "execution_count": null,
      "outputs": []
    },
    {
      "cell_type": "markdown",
      "source": [
        "# **КОМПИЛЯЦИЯ И ОБУЧЕНИЕ НЕТВОРКА**"
      ],
      "metadata": {
        "id": "aE5azPCVBTk0"
      }
    },
    {
      "cell_type": "code",
      "source": [
        "model.compile(loss='categorical_crossentropy', optimizer=keras.optimizers.Adam(), metrics=['accuracy'])"
      ],
      "metadata": {
        "id": "XQC50UtHBeqr"
      },
      "execution_count": null,
      "outputs": []
    },
    {
      "cell_type": "code",
      "source": [
        "model.fit(xtrain, ytrain_convertedToVector, batch_size=32, epochs=10, validation_split=0.2)"
      ],
      "metadata": {
        "id": "Q_C8j4QaCE3A",
        "colab": {
          "base_uri": "https://localhost:8080/"
        },
        "outputId": "c16fbbf1-d9a3-4d0b-a218-7c2d1ee3fd28"
      },
      "execution_count": null,
      "outputs": [
        {
          "output_type": "stream",
          "name": "stdout",
          "text": [
            "Epoch 1/10\n",
            "1500/1500 [==============================] - 512s 340ms/step - loss: 0.3984 - accuracy: 0.8865 - val_loss: 2.6457 - val_accuracy: 0.3343\n",
            "Epoch 2/10\n",
            "1500/1500 [==============================] - 511s 341ms/step - loss: 0.3212 - accuracy: 0.9024 - val_loss: 0.3304 - val_accuracy: 0.9034\n",
            "Epoch 3/10\n",
            "1500/1500 [==============================] - 516s 344ms/step - loss: 0.2986 - accuracy: 0.9096 - val_loss: 1.9760 - val_accuracy: 0.4743\n",
            "Epoch 4/10\n",
            "1500/1500 [==============================] - 496s 331ms/step - loss: 0.2791 - accuracy: 0.9138 - val_loss: 0.5657 - val_accuracy: 0.8148\n",
            "Epoch 5/10\n",
            "1500/1500 [==============================] - 493s 329ms/step - loss: 0.2604 - accuracy: 0.9201 - val_loss: 0.2684 - val_accuracy: 0.9152\n",
            "Epoch 6/10\n",
            "1500/1500 [==============================] - 552s 368ms/step - loss: 0.2302 - accuracy: 0.9283 - val_loss: 0.5040 - val_accuracy: 0.8366\n",
            "Epoch 7/10\n",
            "1500/1500 [==============================] - 516s 344ms/step - loss: 0.2187 - accuracy: 0.9321 - val_loss: 0.3738 - val_accuracy: 0.8788\n",
            "Epoch 8/10\n",
            "1500/1500 [==============================] - 502s 335ms/step - loss: 0.2010 - accuracy: 0.9376 - val_loss: 0.1776 - val_accuracy: 0.9470\n",
            "Epoch 9/10\n",
            "1500/1500 [==============================] - 506s 338ms/step - loss: 0.1849 - accuracy: 0.9439 - val_loss: 0.1378 - val_accuracy: 0.9600\n",
            "Epoch 10/10\n",
            "1500/1500 [==============================] - 507s 338ms/step - loss: 0.1814 - accuracy: 0.9440 - val_loss: 0.3478 - val_accuracy: 0.8928\n"
          ]
        },
        {
          "output_type": "execute_result",
          "data": {
            "text/plain": [
              "<keras.callbacks.History at 0x7f16629aa730>"
            ]
          },
          "metadata": {},
          "execution_count": 13
        }
      ]
    },
    {
      "cell_type": "code",
      "source": [
        "model.save('/content/drive/MyDrive/Colab Notebook/modelV1_0_0')"
      ],
      "metadata": {
        "id": "n1O27z7YwfVb",
        "colab": {
          "base_uri": "https://localhost:8080/"
        },
        "outputId": "6c90b126-0988-42de-acf4-b93219fec454"
      },
      "execution_count": null,
      "outputs": [
        {
          "output_type": "stream",
          "name": "stderr",
          "text": [
            "WARNING:absl:Found untraced functions such as _jit_compiled_convolution_op, _jit_compiled_convolution_op, _jit_compiled_convolution_op while saving (showing 3 of 3). These functions will not be directly callable after loading.\n"
          ]
        }
      ]
    },
    {
      "cell_type": "markdown",
      "source": [
        "# **ТЕСТОВЫЙ ЗАПУСК**"
      ],
      "metadata": {
        "id": "gp2cLuMI2drj"
      }
    },
    {
      "cell_type": "code",
      "source": [
        "#проверка изображений\n",
        "k = 13\n",
        "plt.imshow(xtest[k], cmap='binary')\n",
        "plt.axis('off')\n",
        "print(ytest_convertedToVector[k])"
      ],
      "metadata": {
        "id": "hDRDt3YV3M3z",
        "colab": {
          "base_uri": "https://localhost:8080/",
          "height": 265
        },
        "outputId": "895258be-3f91-46d5-f7c0-8204a62367a2"
      },
      "execution_count": null,
      "outputs": [
        {
          "output_type": "stream",
          "name": "stdout",
          "text": [
            "[1. 0. 0. 0. 0. 0. 0. 0. 0. 0.]\n"
          ]
        },
        {
          "output_type": "display_data",
          "data": {
            "text/plain": [
              "<Figure size 432x288 with 1 Axes>"
            ],
            "image/png": "[encoded data removed]"
          },
          "metadata": {
            "needs_background": "light"
          }
        }
      ]
    }
  ]
}